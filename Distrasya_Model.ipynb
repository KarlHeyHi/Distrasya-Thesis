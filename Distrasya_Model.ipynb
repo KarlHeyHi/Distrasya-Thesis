{
 "cells": [
  {
   "cell_type": "code",
   "execution_count": 2,
   "id": "b94db478",
   "metadata": {},
   "outputs": [],
   "source": [
    "import matplotlib.pyplot as plt\n",
    "import seaborn as sns\n",
    "import numpy as np\n",
    "import pandas as pd\n",
    "import random\n",
    "import cv2\n",
    "import os\n",
    "import PIL\n",
    "import pathlib\n",
    "import splitfolders\n",
    "\n",
    "import tensorflow as tf\n",
    "from tensorflow import keras\n",
    "from tensorflow.keras import layers\n",
    "from tensorflow.keras.models import Sequential\n",
    "from keras.callbacks import ModelCheckpoint, EarlyStopping, ReduceLROnPlateau\n",
    "from keras.preprocessing.image import ImageDataGenerator\n",
    "from keras.applications.vgg16 import VGG16\n",
    "from keras.applications.resnet import ResNet50\n",
    "from keras.applications.efficientnet import EfficientNetB3\n",
    "from keras.applications.inception_v3 import InceptionV3"
   ]
  },
  {
   "cell_type": "code",
   "execution_count": 3,
   "id": "985c7cc2",
   "metadata": {},
   "outputs": [],
   "source": [
    "batch_size = 128\n",
    "img_height, img_width = 224, 224\n",
    "input_shape = (img_height, img_width, 3)"
   ]
  },
  {
   "cell_type": "code",
   "execution_count": 4,
   "id": "f2545a56",
   "metadata": {},
   "outputs": [
    {
     "name": "stdout",
     "output_type": "stream",
     "text": [
      "Found 14681 images belonging to 8 classes.\n",
      "Found 1833 images belonging to 8 classes.\n",
      "Found 1842 images belonging to 8 classes.\n"
     ]
    }
   ],
   "source": [
    "train_datagen = ImageDataGenerator(\n",
    "    shear_range = 0.2, \n",
    "    zoom_range = 0.2)\n",
    "\n",
    "val_datagen = ImageDataGenerator()\n",
    "\n",
    "train_ds = train_datagen.flow_from_directory(\n",
    "    'imgs_splitted/train',\n",
    "    target_size = (img_height, img_width),\n",
    "    batch_size = batch_size,\n",
    "    seed = 123,\n",
    "    class_mode='categorical')\n",
    "\n",
    "val_ds = val_datagen.flow_from_directory(\n",
    "    'imgs_splitted/val',\n",
    "    target_size = (img_height, img_width),\n",
    "    batch_size = batch_size,\n",
    "    seed = 123,\n",
    "    class_mode='categorical',\n",
    "    shuffle=False)\n",
    "\n",
    "test_ds = val_datagen.flow_from_directory(\n",
    "    'imgs_splitted/test',\n",
    "    target_size = (img_height, img_width),\n",
    "    batch_size = batch_size,\n",
    "    seed = 123,\n",
    "    class_mode='categorical',\n",
    "    shuffle=False)\n"
   ]
  },
  {
   "cell_type": "code",
   "execution_count": 4,
   "id": "1c048b7c",
   "metadata": {},
   "outputs": [],
   "source": [
    "inputs = tf.keras.Input(input_shape)\n",
    "efficientnet = tf.keras.applications.efficientnet_v2.EfficientNetV2B0(\n",
    "    include_top=False,\n",
    "    weights='imagenet', input_tensor=inputs )\n",
    "efficientnet.trainable = False\n",
    "x = efficientnet(inputs, training=False)\n",
    "x = tf.keras.layers.GlobalAveragePooling2D()(x)\n",
    "x = tf.keras.layers.BatchNormalization()(x)\n",
    "x = tf.keras.layers.Dropout(0.2)(x)\n",
    "x = tf.keras.layers.Dense(1024, activation='relu')(x)\n",
    "x = tf.keras.layers.Dense(8, activation='softmax')(x)\n",
    "model_efficientnet = tf.keras.Model(inputs, x)"
   ]
  },
  {
   "cell_type": "code",
   "execution_count": 5,
   "id": "5ec13c7c",
   "metadata": {},
   "outputs": [
    {
     "name": "stdout",
     "output_type": "stream",
     "text": [
      "Model: \"model\"\n",
      "_________________________________________________________________\n",
      " Layer (type)                Output Shape              Param #   \n",
      "=================================================================\n",
      " input_1 (InputLayer)        [(None, 224, 224, 3)]     0         \n",
      "                                                                 \n",
      " efficientnetv2-b0 (Function  (None, 7, 7, 1280)       5919312   \n",
      " al)                                                             \n",
      "                                                                 \n",
      " global_average_pooling2d (G  (None, 1280)             0         \n",
      " lobalAveragePooling2D)                                          \n",
      "                                                                 \n",
      " batch_normalization (BatchN  (None, 1280)             5120      \n",
      " ormalization)                                                   \n",
      "                                                                 \n",
      " dropout (Dropout)           (None, 1280)              0         \n",
      "                                                                 \n",
      " dense (Dense)               (None, 1024)              1311744   \n",
      "                                                                 \n",
      " dense_1 (Dense)             (None, 8)                 8200      \n",
      "                                                                 \n",
      "=================================================================\n",
      "Total params: 7,244,376\n",
      "Trainable params: 1,322,504\n",
      "Non-trainable params: 5,921,872\n",
      "_________________________________________________________________\n"
     ]
    }
   ],
   "source": [
    "model_efficientnet.compile(optimizer='adam', loss='categorical_crossentropy', metrics=['accuracy'])\n",
    "model_efficientnet.summary()"
   ]
  },
  {
   "cell_type": "code",
   "execution_count": 25,
   "id": "4212f70c",
   "metadata": {},
   "outputs": [],
   "source": [
    "checkpointer = ModelCheckpoint(filepath='new_models/model_efficientnetv2.hdf5', \n",
    "                               monitor='val_accuracy', mode='max',\n",
    "                               verbose=1, save_best_only=True)\n",
    "early_stopping = EarlyStopping(monitor='val_loss', mode='min', verbose=1, patience=3)\n",
    "reduce_lr = ReduceLROnPlateau(monitor='val_loss', factor=0.2,patience=2, min_lr=0.0001)\n",
    "callbacks=[early_stopping, reduce_lr, checkpointer]"
   ]
  },
  {
   "cell_type": "code",
   "execution_count": 33,
   "id": "82765499",
   "metadata": {
    "collapsed": true
   },
   "outputs": [
    {
     "name": "stdout",
     "output_type": "stream",
     "text": [
      "Epoch 1/100\n",
      "115/115 [==============================] - ETA: 0s - loss: 0.2732 - accuracy: 0.9108\n",
      "Epoch 1: val_accuracy improved from -inf to 0.92253, saving model to new_models\\model_efficientnetv2.hdf5\n",
      "115/115 [==============================] - 125s 1s/step - loss: 0.2732 - accuracy: 0.9108 - val_loss: 0.4244 - val_accuracy: 0.9225 - lr: 0.0010\n",
      "Epoch 2/100\n",
      "115/115 [==============================] - ETA: 0s - loss: 0.0850 - accuracy: 0.9738\n",
      "Epoch 2: val_accuracy improved from 0.92253 to 0.96072, saving model to new_models\\model_efficientnetv2.hdf5\n",
      "115/115 [==============================] - 119s 1s/step - loss: 0.0850 - accuracy: 0.9738 - val_loss: 0.1501 - val_accuracy: 0.9607 - lr: 0.0010\n",
      "Epoch 3/100\n",
      "115/115 [==============================] - ETA: 0s - loss: 0.0777 - accuracy: 0.9766\n",
      "Epoch 3: val_accuracy improved from 0.96072 to 0.96618, saving model to new_models\\model_efficientnetv2.hdf5\n",
      "115/115 [==============================] - 122s 1s/step - loss: 0.0777 - accuracy: 0.9766 - val_loss: 0.1149 - val_accuracy: 0.9662 - lr: 0.0010\n",
      "Epoch 4/100\n",
      "115/115 [==============================] - ETA: 0s - loss: 0.0606 - accuracy: 0.9809\n",
      "Epoch 4: val_accuracy improved from 0.96618 to 0.98091, saving model to new_models\\model_efficientnetv2.hdf5\n",
      "115/115 [==============================] - 119s 1s/step - loss: 0.0606 - accuracy: 0.9809 - val_loss: 0.0565 - val_accuracy: 0.9809 - lr: 0.0010\n",
      "Epoch 5/100\n",
      "115/115 [==============================] - ETA: 0s - loss: 0.0509 - accuracy: 0.9837\n",
      "Epoch 5: val_accuracy did not improve from 0.98091\n",
      "115/115 [==============================] - 119s 1s/step - loss: 0.0509 - accuracy: 0.9837 - val_loss: 0.0946 - val_accuracy: 0.9787 - lr: 0.0010\n",
      "Epoch 6/100\n",
      "115/115 [==============================] - ETA: 0s - loss: 0.0581 - accuracy: 0.9822\n",
      "Epoch 6: val_accuracy improved from 0.98091 to 0.98745, saving model to new_models\\model_efficientnetv2.hdf5\n",
      "115/115 [==============================] - 118s 1s/step - loss: 0.0581 - accuracy: 0.9822 - val_loss: 0.0456 - val_accuracy: 0.9875 - lr: 0.0010\n",
      "Epoch 7/100\n",
      "115/115 [==============================] - ETA: 0s - loss: 0.0464 - accuracy: 0.9856\n",
      "Epoch 7: val_accuracy improved from 0.98745 to 0.98800, saving model to new_models\\model_efficientnetv2.hdf5\n",
      "115/115 [==============================] - 119s 1s/step - loss: 0.0464 - accuracy: 0.9856 - val_loss: 0.0493 - val_accuracy: 0.9880 - lr: 0.0010\n",
      "Epoch 8/100\n",
      "115/115 [==============================] - ETA: 0s - loss: 0.0485 - accuracy: 0.9854\n",
      "Epoch 8: val_accuracy did not improve from 0.98800\n",
      "115/115 [==============================] - 119s 1s/step - loss: 0.0485 - accuracy: 0.9854 - val_loss: 0.0395 - val_accuracy: 0.9864 - lr: 0.0010\n",
      "Epoch 9/100\n",
      "115/115 [==============================] - ETA: 0s - loss: 0.0519 - accuracy: 0.9850\n",
      "Epoch 9: val_accuracy improved from 0.98800 to 0.99018, saving model to new_models\\model_efficientnetv2.hdf5\n",
      "115/115 [==============================] - 119s 1s/step - loss: 0.0519 - accuracy: 0.9850 - val_loss: 0.0333 - val_accuracy: 0.9902 - lr: 0.0010\n",
      "Epoch 10/100\n",
      "115/115 [==============================] - ETA: 0s - loss: 0.0435 - accuracy: 0.9873\n",
      "Epoch 10: val_accuracy did not improve from 0.99018\n",
      "115/115 [==============================] - 119s 1s/step - loss: 0.0435 - accuracy: 0.9873 - val_loss: 0.0498 - val_accuracy: 0.9885 - lr: 0.0010\n",
      "Epoch 11/100\n",
      "115/115 [==============================] - ETA: 0s - loss: 0.0353 - accuracy: 0.9894\n",
      "Epoch 11: val_accuracy did not improve from 0.99018\n",
      "115/115 [==============================] - 121s 1s/step - loss: 0.0353 - accuracy: 0.9894 - val_loss: 0.0579 - val_accuracy: 0.9853 - lr: 0.0010\n",
      "Epoch 12/100\n",
      "115/115 [==============================] - ETA: 0s - loss: 0.0206 - accuracy: 0.9937\n",
      "Epoch 12: val_accuracy did not improve from 0.99018\n",
      "115/115 [==============================] - 124s 1s/step - loss: 0.0206 - accuracy: 0.9937 - val_loss: 0.0386 - val_accuracy: 0.9896 - lr: 2.0000e-04\n",
      "Epoch 12: early stopping\n"
     ]
    }
   ],
   "source": [
    "history1 = model_efficientnet.fit(train_ds, epochs = 100, validation_data = val_ds, callbacks=callbacks)"
   ]
  },
  {
   "cell_type": "code",
   "execution_count": 26,
   "id": "e0303d1f",
   "metadata": {},
   "outputs": [],
   "source": [
    "model_efficientnet.load_weights('new_models/model_efficientnetv2.hdf5')"
   ]
  },
  {
   "cell_type": "code",
   "execution_count": 27,
   "id": "d157df8f",
   "metadata": {},
   "outputs": [],
   "source": [
    "efficientnet.trainable = True\n",
    "\n",
    "model_efficientnet.compile(optimizer=keras.optimizers.Adam(1e-5),\n",
    "              loss='categorical_crossentropy', metrics=['accuracy'])"
   ]
  },
  {
   "cell_type": "code",
   "execution_count": 28,
   "id": "8dcd4755",
   "metadata": {
    "collapsed": true
   },
   "outputs": [
    {
     "name": "stdout",
     "output_type": "stream",
     "text": [
      "Epoch 1/100\n",
      "230/230 [==============================] - ETA: 0s - loss: 0.0243 - accuracy: 0.9932\n",
      "Epoch 1: val_accuracy improved from -inf to 0.99236, saving model to new_models\\model_efficientnetv2.hdf5\n",
      "230/230 [==============================] - 132s 544ms/step - loss: 0.0243 - accuracy: 0.9932 - val_loss: 0.0324 - val_accuracy: 0.9924 - lr: 1.0000e-05\n",
      "Epoch 2/100\n",
      "230/230 [==============================] - ETA: 0s - loss: 0.0113 - accuracy: 0.9962\n",
      "Epoch 2: val_accuracy did not improve from 0.99236\n",
      "230/230 [==============================] - 121s 527ms/step - loss: 0.0113 - accuracy: 0.9962 - val_loss: 0.0291 - val_accuracy: 0.9918 - lr: 1.0000e-05\n",
      "Epoch 3/100\n",
      "230/230 [==============================] - ETA: 0s - loss: 0.0112 - accuracy: 0.9965\n",
      "Epoch 3: val_accuracy improved from 0.99236 to 0.99345, saving model to new_models\\model_efficientnetv2.hdf5\n",
      "230/230 [==============================] - 121s 523ms/step - loss: 0.0112 - accuracy: 0.9965 - val_loss: 0.0200 - val_accuracy: 0.9935 - lr: 1.0000e-05\n",
      "Epoch 4/100\n",
      "230/230 [==============================] - ETA: 0s - loss: 0.0054 - accuracy: 0.9980\n",
      "Epoch 4: val_accuracy did not improve from 0.99345\n",
      "230/230 [==============================] - 120s 522ms/step - loss: 0.0054 - accuracy: 0.9980 - val_loss: 0.0246 - val_accuracy: 0.9929 - lr: 1.0000e-05\n",
      "Epoch 5/100\n",
      "230/230 [==============================] - ETA: 0s - loss: 0.0052 - accuracy: 0.9986\n",
      "Epoch 5: val_accuracy improved from 0.99345 to 0.99509, saving model to new_models\\model_efficientnetv2.hdf5\n",
      "230/230 [==============================] - 121s 524ms/step - loss: 0.0052 - accuracy: 0.9986 - val_loss: 0.0188 - val_accuracy: 0.9951 - lr: 1.0000e-05\n",
      "Epoch 6/100\n",
      "230/230 [==============================] - ETA: 0s - loss: 0.0043 - accuracy: 0.9984\n",
      "Epoch 6: val_accuracy improved from 0.99509 to 0.99564, saving model to new_models\\model_efficientnetv2.hdf5\n",
      "230/230 [==============================] - 120s 519ms/step - loss: 0.0043 - accuracy: 0.9984 - val_loss: 0.0165 - val_accuracy: 0.9956 - lr: 1.0000e-05\n",
      "Epoch 7/100\n",
      "230/230 [==============================] - ETA: 0s - loss: 0.0048 - accuracy: 0.9984\n",
      "Epoch 7: val_accuracy did not improve from 0.99564\n",
      "230/230 [==============================] - 119s 515ms/step - loss: 0.0048 - accuracy: 0.9984 - val_loss: 0.0207 - val_accuracy: 0.9956 - lr: 1.0000e-05\n",
      "Epoch 8/100\n",
      "230/230 [==============================] - ETA: 0s - loss: 0.0026 - accuracy: 0.9990\n",
      "Epoch 8: val_accuracy did not improve from 0.99564\n",
      "230/230 [==============================] - 119s 514ms/step - loss: 0.0026 - accuracy: 0.9990 - val_loss: 0.0225 - val_accuracy: 0.9956 - lr: 1.0000e-05\n",
      "Epoch 9/100\n",
      "230/230 [==============================] - ETA: 0s - loss: 0.0044 - accuracy: 0.9988\n",
      "Epoch 9: val_accuracy did not improve from 0.99564\n",
      "230/230 [==============================] - 119s 515ms/step - loss: 0.0044 - accuracy: 0.9988 - val_loss: 0.0164 - val_accuracy: 0.9951 - lr: 1.0000e-05\n",
      "Epoch 10/100\n",
      "230/230 [==============================] - ETA: 0s - loss: 0.0033 - accuracy: 0.9988\n",
      "Epoch 10: val_accuracy improved from 0.99564 to 0.99727, saving model to new_models\\model_efficientnetv2.hdf5\n",
      "230/230 [==============================] - 119s 518ms/step - loss: 0.0033 - accuracy: 0.9988 - val_loss: 0.0130 - val_accuracy: 0.9973 - lr: 1.0000e-05\n",
      "Epoch 11/100\n",
      "230/230 [==============================] - ETA: 0s - loss: 0.0028 - accuracy: 0.9988\n",
      "Epoch 11: val_accuracy did not improve from 0.99727\n",
      "230/230 [==============================] - 119s 517ms/step - loss: 0.0028 - accuracy: 0.9988 - val_loss: 0.0136 - val_accuracy: 0.9956 - lr: 1.0000e-05\n",
      "Epoch 12/100\n",
      "230/230 [==============================] - ETA: 0s - loss: 0.0029 - accuracy: 0.9991\n",
      "Epoch 12: val_accuracy did not improve from 0.99727\n",
      "230/230 [==============================] - 120s 519ms/step - loss: 0.0029 - accuracy: 0.9991 - val_loss: 0.0162 - val_accuracy: 0.9951 - lr: 1.0000e-05\n",
      "Epoch 13/100\n",
      "230/230 [==============================] - ETA: 0s - loss: 0.0016 - accuracy: 0.9995\n",
      "Epoch 13: val_accuracy did not improve from 0.99727\n",
      "230/230 [==============================] - 119s 516ms/step - loss: 0.0016 - accuracy: 0.9995 - val_loss: 0.0145 - val_accuracy: 0.9956 - lr: 1.0000e-05\n",
      "Epoch 13: early stopping\n"
     ]
    }
   ],
   "source": [
    "history2 = model_efficientnet.fit(train_ds, epochs = 100, validation_data = val_ds, callbacks=callbacks)"
   ]
  },
  {
   "cell_type": "code",
   "execution_count": 29,
   "id": "e47a0b6a",
   "metadata": {},
   "outputs": [],
   "source": [
    "model_efficientnet.load_weights('new_models/model_efficientnetv2.hdf5')"
   ]
  },
  {
   "cell_type": "code",
   "execution_count": 33,
   "id": "0255af6a",
   "metadata": {},
   "outputs": [
    {
     "name": "stdout",
     "output_type": "stream",
     "text": [
      "29/29 [==============================] - 5s 171ms/step - loss: 0.0130 - accuracy: 0.9973\n"
     ]
    }
   ],
   "source": [
    "score1 = model_efficientnet.evaluate(val_ds, verbose=1)"
   ]
  },
  {
   "cell_type": "code",
   "execution_count": 15,
   "id": "3d61c12a",
   "metadata": {},
   "outputs": [],
   "source": [
    "inputs = tf.keras.Input(input_shape)\n",
    "efficientnet = tf.keras.applications.efficientnet.EfficientNetB0(\n",
    "    include_top=False,\n",
    "    weights='imagenet', input_tensor=inputs )\n",
    "efficientnet.trainable = False\n",
    "x = efficientnet(inputs, training=False)\n",
    "x = tf.keras.layers.GlobalAveragePooling2D()(x)\n",
    "x = tf.keras.layers.BatchNormalization()(x)\n",
    "x = tf.keras.layers.Dropout(0.2)(x)\n",
    "x = tf.keras.layers.Dense(1024, activation='relu')(x)\n",
    "x = tf.keras.layers.Dense(8, activation='softmax')(x)\n",
    "model_efficientnet = tf.keras.Model(inputs, x)"
   ]
  },
  {
   "cell_type": "code",
   "execution_count": 16,
   "id": "f0419fe5",
   "metadata": {},
   "outputs": [
    {
     "name": "stdout",
     "output_type": "stream",
     "text": [
      "Model: \"model_2\"\n",
      "_________________________________________________________________\n",
      " Layer (type)                Output Shape              Param #   \n",
      "=================================================================\n",
      " input_3 (InputLayer)        [(None, 224, 224, 3)]     0         \n",
      "                                                                 \n",
      " efficientnetb0 (Functional)  (None, 7, 7, 1280)       4049571   \n",
      "                                                                 \n",
      " global_average_pooling2d_2   (None, 1280)             0         \n",
      " (GlobalAveragePooling2D)                                        \n",
      "                                                                 \n",
      " batch_normalization_2 (Batc  (None, 1280)             5120      \n",
      " hNormalization)                                                 \n",
      "                                                                 \n",
      " dropout_2 (Dropout)         (None, 1280)              0         \n",
      "                                                                 \n",
      " dense_4 (Dense)             (None, 1024)              1311744   \n",
      "                                                                 \n",
      " dense_5 (Dense)             (None, 8)                 8200      \n",
      "                                                                 \n",
      "=================================================================\n",
      "Total params: 5,374,635\n",
      "Trainable params: 1,322,504\n",
      "Non-trainable params: 4,052,131\n",
      "_________________________________________________________________\n"
     ]
    }
   ],
   "source": [
    "model_efficientnet.compile(optimizer='adam', loss='categorical_crossentropy', metrics=['accuracy'])\n",
    "model_efficientnet.summary()"
   ]
  },
  {
   "cell_type": "code",
   "execution_count": 8,
   "id": "f4954d67",
   "metadata": {},
   "outputs": [],
   "source": [
    "checkpointer = ModelCheckpoint(filepath='new_models/model_efficientnetb0.hdf5', \n",
    "                               monitor='val_accuracy', mode='max',\n",
    "                               verbose=1, save_best_only=True)\n",
    "early_stopping = EarlyStopping(monitor='val_loss', mode='min', verbose=1, patience=3)\n",
    "reduce_lr = ReduceLROnPlateau(monitor='val_loss', factor=0.2,patience=2, min_lr=0.0001)\n",
    "callbacks=[early_stopping, reduce_lr, checkpointer]"
   ]
  },
  {
   "cell_type": "code",
   "execution_count": 9,
   "id": "15aa9a70",
   "metadata": {},
   "outputs": [
    {
     "name": "stdout",
     "output_type": "stream",
     "text": [
      "Epoch 1/100\n",
      "115/115 [==============================] - ETA: 0s - loss: 0.2989 - accuracy: 0.9014\n",
      "Epoch 1: val_accuracy improved from -inf to 0.94435, saving model to new_models\\model_efficientnetb0.hdf5\n",
      "115/115 [==============================] - 171s 1s/step - loss: 0.2989 - accuracy: 0.9014 - val_loss: 0.3790 - val_accuracy: 0.9444 - lr: 0.0010\n",
      "Epoch 2/100\n",
      "115/115 [==============================] - ETA: 0s - loss: 0.1017 - accuracy: 0.9667\n",
      "Epoch 2: val_accuracy improved from 0.94435 to 0.96236, saving model to new_models\\model_efficientnetb0.hdf5\n",
      "115/115 [==============================] - 122s 1s/step - loss: 0.1017 - accuracy: 0.9667 - val_loss: 0.1569 - val_accuracy: 0.9624 - lr: 0.0010\n",
      "Epoch 3/100\n",
      "115/115 [==============================] - ETA: 0s - loss: 0.0675 - accuracy: 0.9789\n",
      "Epoch 3: val_accuracy improved from 0.96236 to 0.98309, saving model to new_models\\model_efficientnetb0.hdf5\n",
      "115/115 [==============================] - 121s 1s/step - loss: 0.0675 - accuracy: 0.9789 - val_loss: 0.0798 - val_accuracy: 0.9831 - lr: 0.0010\n",
      "Epoch 4/100\n",
      "115/115 [==============================] - ETA: 0s - loss: 0.0748 - accuracy: 0.9761\n",
      "Epoch 4: val_accuracy improved from 0.98309 to 0.98745, saving model to new_models\\model_efficientnetb0.hdf5\n",
      "115/115 [==============================] - 122s 1s/step - loss: 0.0748 - accuracy: 0.9761 - val_loss: 0.0486 - val_accuracy: 0.9875 - lr: 0.0010\n",
      "Epoch 5/100\n",
      "115/115 [==============================] - ETA: 0s - loss: 0.0617 - accuracy: 0.9801\n",
      "Epoch 5: val_accuracy did not improve from 0.98745\n",
      "115/115 [==============================] - 117s 1s/step - loss: 0.0617 - accuracy: 0.9801 - val_loss: 0.0671 - val_accuracy: 0.9749 - lr: 0.0010\n",
      "Epoch 6/100\n",
      "115/115 [==============================] - ETA: 0s - loss: 0.0544 - accuracy: 0.9818\n",
      "Epoch 6: val_accuracy did not improve from 0.98745\n",
      "115/115 [==============================] - 122s 1s/step - loss: 0.0544 - accuracy: 0.9818 - val_loss: 0.0640 - val_accuracy: 0.9836 - lr: 0.0010\n",
      "Epoch 7/100\n",
      "115/115 [==============================] - ETA: 0s - loss: 0.0334 - accuracy: 0.9904\n",
      "Epoch 7: val_accuracy improved from 0.98745 to 0.98800, saving model to new_models\\model_efficientnetb0.hdf5\n",
      "115/115 [==============================] - 125s 1s/step - loss: 0.0334 - accuracy: 0.9904 - val_loss: 0.0359 - val_accuracy: 0.9880 - lr: 2.0000e-04\n",
      "Epoch 8/100\n",
      "115/115 [==============================] - ETA: 0s - loss: 0.0200 - accuracy: 0.9940\n",
      "Epoch 8: val_accuracy improved from 0.98800 to 0.99127, saving model to new_models\\model_efficientnetb0.hdf5\n",
      "115/115 [==============================] - 125s 1s/step - loss: 0.0200 - accuracy: 0.9940 - val_loss: 0.0274 - val_accuracy: 0.9913 - lr: 2.0000e-04\n",
      "Epoch 9/100\n",
      "115/115 [==============================] - ETA: 0s - loss: 0.0170 - accuracy: 0.9945\n",
      "Epoch 9: val_accuracy did not improve from 0.99127\n",
      "115/115 [==============================] - 125s 1s/step - loss: 0.0170 - accuracy: 0.9945 - val_loss: 0.0360 - val_accuracy: 0.9880 - lr: 2.0000e-04\n",
      "Epoch 10/100\n",
      "115/115 [==============================] - ETA: 0s - loss: 0.0167 - accuracy: 0.9941\n",
      "Epoch 10: val_accuracy improved from 0.99127 to 0.99291, saving model to new_models\\model_efficientnetb0.hdf5\n",
      "115/115 [==============================] - 123s 1s/step - loss: 0.0167 - accuracy: 0.9941 - val_loss: 0.0280 - val_accuracy: 0.9929 - lr: 2.0000e-04\n",
      "Epoch 11/100\n",
      "115/115 [==============================] - ETA: 0s - loss: 0.0129 - accuracy: 0.9960\n",
      "Epoch 11: val_accuracy did not improve from 0.99291\n",
      "115/115 [==============================] - 124s 1s/step - loss: 0.0129 - accuracy: 0.9960 - val_loss: 0.0279 - val_accuracy: 0.9918 - lr: 1.0000e-04\n",
      "Epoch 11: early stopping\n"
     ]
    }
   ],
   "source": [
    "history3 = model_efficientnet.fit(train_ds, epochs = 100, validation_data = val_ds, callbacks=callbacks)"
   ]
  },
  {
   "cell_type": "code",
   "execution_count": 10,
   "id": "c1a480aa",
   "metadata": {},
   "outputs": [],
   "source": [
    "model_efficientnet.load_weights('new_models/model_efficientnetb0.hdf5')"
   ]
  },
  {
   "cell_type": "code",
   "execution_count": 11,
   "id": "9e819663",
   "metadata": {},
   "outputs": [],
   "source": [
    "for layer in efficientnet.layers[-20:]:\n",
    "    if not isinstance(layer, layers.BatchNormalization):\n",
    "        layer.trainable = True\n",
    "\n",
    "model_efficientnet.compile(optimizer=keras.optimizers.Adam(1e-5),\n",
    "              loss='categorical_crossentropy', metrics=['accuracy'])"
   ]
  },
  {
   "cell_type": "code",
   "execution_count": 12,
   "id": "cb6a22ae",
   "metadata": {
    "collapsed": true
   },
   "outputs": [
    {
     "name": "stdout",
     "output_type": "stream",
     "text": [
      "Epoch 1/100\n",
      "115/115 [==============================] - ETA: 0s - loss: 0.0106 - accuracy: 0.9965\n",
      "Epoch 1: val_accuracy did not improve from 0.99291\n",
      "115/115 [==============================] - 122s 1s/step - loss: 0.0106 - accuracy: 0.9965 - val_loss: 0.0268 - val_accuracy: 0.9918 - lr: 1.0000e-05\n",
      "Epoch 2/100\n",
      "115/115 [==============================] - ETA: 0s - loss: 0.0125 - accuracy: 0.9963\n",
      "Epoch 2: val_accuracy did not improve from 0.99291\n",
      "115/115 [==============================] - 120s 1s/step - loss: 0.0125 - accuracy: 0.9963 - val_loss: 0.0265 - val_accuracy: 0.9918 - lr: 1.0000e-05\n",
      "Epoch 3/100\n",
      "115/115 [==============================] - ETA: 0s - loss: 0.0111 - accuracy: 0.9963\n",
      "Epoch 3: val_accuracy did not improve from 0.99291\n",
      "115/115 [==============================] - 119s 1s/step - loss: 0.0111 - accuracy: 0.9963 - val_loss: 0.0261 - val_accuracy: 0.9918 - lr: 1.0000e-05\n",
      "Epoch 4/100\n",
      "115/115 [==============================] - ETA: 0s - loss: 0.0104 - accuracy: 0.9966\n",
      "Epoch 4: val_accuracy did not improve from 0.99291\n",
      "115/115 [==============================] - 121s 1s/step - loss: 0.0104 - accuracy: 0.9966 - val_loss: 0.0255 - val_accuracy: 0.9918 - lr: 1.0000e-05\n",
      "Epoch 5/100\n",
      "115/115 [==============================] - ETA: 0s - loss: 0.0121 - accuracy: 0.9962\n",
      "Epoch 5: val_accuracy did not improve from 0.99291\n",
      "115/115 [==============================] - 119s 1s/step - loss: 0.0121 - accuracy: 0.9962 - val_loss: 0.0249 - val_accuracy: 0.9913 - lr: 1.0000e-05\n",
      "Epoch 6/100\n",
      "115/115 [==============================] - ETA: 0s - loss: 0.0108 - accuracy: 0.9960\n",
      "Epoch 6: val_accuracy did not improve from 0.99291\n",
      "115/115 [==============================] - 117s 1s/step - loss: 0.0108 - accuracy: 0.9960 - val_loss: 0.0253 - val_accuracy: 0.9918 - lr: 1.0000e-05\n",
      "Epoch 7/100\n",
      "115/115 [==============================] - ETA: 0s - loss: 0.0091 - accuracy: 0.9972\n",
      "Epoch 7: val_accuracy did not improve from 0.99291\n",
      "115/115 [==============================] - 120s 1s/step - loss: 0.0091 - accuracy: 0.9972 - val_loss: 0.0252 - val_accuracy: 0.9924 - lr: 1.0000e-05\n",
      "Epoch 8/100\n",
      "115/115 [==============================] - ETA: 0s - loss: 0.0116 - accuracy: 0.9963\n",
      "Epoch 8: val_accuracy did not improve from 0.99291\n",
      "115/115 [==============================] - 123s 1s/step - loss: 0.0116 - accuracy: 0.9963 - val_loss: 0.0252 - val_accuracy: 0.9929 - lr: 1.0000e-05\n",
      "Epoch 8: early stopping\n"
     ]
    }
   ],
   "source": [
    "history4 = model_efficientnet.fit(train_ds, epochs = 100, validation_data = val_ds, callbacks=callbacks)"
   ]
  },
  {
   "cell_type": "code",
   "execution_count": 17,
   "id": "2fff0133",
   "metadata": {},
   "outputs": [],
   "source": [
    "model_efficientnet.load_weights('new_models/model_efficientnetb0.hdf5')"
   ]
  },
  {
   "cell_type": "code",
   "execution_count": 18,
   "id": "4fb66c99",
   "metadata": {},
   "outputs": [
    {
     "name": "stdout",
     "output_type": "stream",
     "text": [
      "15/15 [==============================] - 6s 317ms/step - loss: 0.0280 - accuracy: 0.9929\n",
      "EfficientNet Loss: 0.027964744716882706, Accuracy: 99.29078221321106\n"
     ]
    }
   ],
   "source": [
    "score2 = model_efficientnet.evaluate(val_ds, verbose=1)\n",
    "print(f'EfficientNet Loss: {score2[0]}, Accuracy: {score2[1]*100}')"
   ]
  },
  {
   "cell_type": "code",
   "execution_count": null,
   "id": "f7223ace",
   "metadata": {},
   "outputs": [],
   "source": []
  }
 ],
 "metadata": {
  "kernelspec": {
   "display_name": "Python 3 (ipykernel)",
   "language": "python",
   "name": "python3"
  },
  "language_info": {
   "codemirror_mode": {
    "name": "ipython",
    "version": 3
   },
   "file_extension": ".py",
   "mimetype": "text/x-python",
   "name": "python",
   "nbconvert_exporter": "python",
   "pygments_lexer": "ipython3",
   "version": "3.9.1"
  }
 },
 "nbformat": 4,
 "nbformat_minor": 5
}
